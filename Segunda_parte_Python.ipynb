{
  "nbformat": 4,
  "nbformat_minor": 0,
  "metadata": {
    "colab": {
      "provenance": [],
      "toc_visible": true,
      "authorship_tag": "ABX9TyN2gR7GVxrcDiyYxdgO2D0k",
      "include_colab_link": true
    },
    "kernelspec": {
      "name": "python3",
      "display_name": "Python 3"
    },
    "language_info": {
      "name": "python"
    }
  },
  "cells": [
    {
      "cell_type": "markdown",
      "metadata": {
        "id": "view-in-github",
        "colab_type": "text"
      },
      "source": [
        "<a href=\"https://colab.research.google.com/github/herrmannfl/Python/blob/main/Segunda_parte_Python.ipynb\" target=\"_parent\"><img src=\"https://colab.research.google.com/assets/colab-badge.svg\" alt=\"Open In Colab\"/></a>"
      ]
    },
    {
      "cell_type": "markdown",
      "source": [
        "# **Coleções**\n",
        "As coleções permitem armazenar múltiplos itens dentro de uma única unidade, que funciona como um container.\n",
        "* Tuplas\n",
        "* Listas\n",
        "* Sets\n",
        "* Dicionários"
      ],
      "metadata": {
        "id": "IP6INpURgS9x"
      }
    },
    {
      "cell_type": "markdown",
      "source": [
        "## **Tuplas**\n",
        "* Uma tupla em Python é uma sequência imutável de valores de qualquer tipo. Para criar uma\n",
        "tupla, lista-se uma sequência de valores separados por vírgulas e, opcionalmente, entre\n",
        "parênteses.\n",
        "* Cada posição da tupla é indexada por um número inteiro, começando a partir do 0.\n",
        "* Observe que para criar uma tupla é necessário que os itens estejam entre parêntesis."
      ],
      "metadata": {
        "id": "dT43d0fpm_NJ"
      }
    },
    {
      "cell_type": "code",
      "source": [
        "numeros = (1,2,3,4,5)\n",
        "print(numeros)\n",
        "print(type(numeros))\n",
        "print(len(numeros))"
      ],
      "metadata": {
        "colab": {
          "base_uri": "https://localhost:8080/"
        },
        "id": "ioeZX4GksnAm",
        "outputId": "80e2fc01-c932-4117-a1f3-ff30a15d4a62"
      },
      "execution_count": null,
      "outputs": [
        {
          "output_type": "stream",
          "name": "stdout",
          "text": [
            "(1, 2, 3, 4, 5)\n",
            "<class 'tuple'>\n",
            "5\n"
          ]
        }
      ]
    },
    {
      "cell_type": "code",
      "execution_count": null,
      "metadata": {
        "colab": {
          "base_uri": "https://localhost:8080/"
        },
        "id": "aAum9A-cgNxj",
        "outputId": "3a3f8ddb-b892-4498-df5f-0fa715b0a927"
      },
      "outputs": [
        {
          "output_type": "stream",
          "name": "stdout",
          "text": [
            "João\n",
            "3\n",
            "<class 'tuple'>\n"
          ]
        }
      ],
      "source": [
        "nomes = ('Maria', 'João', 'José')\n",
        "print(nomes[1])\n",
        "print(len(nomes))\n",
        "print(type(nomes))"
      ]
    },
    {
      "cell_type": "code",
      "source": [
        "# exemplo de tuplas com estudante, disciplina e notas\n",
        "aluno1 = (\"José\",23,\"Tópicos Avançados\",[60,40,80])\n",
        "aluno2 = (\"Maria\",22,\"Técnicas de Programação\",[75,80,90])\n",
        "\n",
        "print(aluno1)\n",
        "print(type(aluno1))\n",
        "print(type(aluno1[3]))\n",
        "print(\"A estudante\",aluno2[0],\"na disciplina\",aluno2[2],\"obteve a média:\",sum(aluno2[3])/len(aluno2[3]))\n",
        "# outra forma para printar usando formatação\n",
        "print(f\"O estudante {aluno1[0]} na disciplina {aluno1[2]} obteve a média {sum(aluno1[3])/len(aluno1[3]):.2f}\")\n",
        "\n",
        "for elemento in aluno2:\n",
        "    print(elemento)"
      ],
      "metadata": {
        "colab": {
          "base_uri": "https://localhost:8080/"
        },
        "id": "V_VjEKREnXcy",
        "outputId": "b4e220d8-f773-4d3e-9090-eaaf87e2dd92"
      },
      "execution_count": null,
      "outputs": [
        {
          "output_type": "stream",
          "name": "stdout",
          "text": [
            "('José', 23, 'Tópicos Avançados', [60, 40, 80])\n",
            "<class 'tuple'>\n",
            "<class 'list'>\n",
            "A estudante Maria na disciplina Técnicas de Programação obteve a média: 81.66666666666667\n",
            "O estudante José na disciplina Tópicos Avançados obteve a média 60.00\n",
            "Maria\n",
            "22\n",
            "Técnicas de Programação\n",
            "[75, 80, 90]\n"
          ]
        }
      ]
    },
    {
      "cell_type": "markdown",
      "source": [
        "**Tuplas são IMUTÁVEIS**"
      ],
      "metadata": {
        "id": "5WPIjsMqtIGF"
      }
    },
    {
      "cell_type": "code",
      "source": [
        "print(aluno1)\n",
        "# alterando o nome do estudante 1\n",
        "aluno1[0] = \"João\""
      ],
      "metadata": {
        "colab": {
          "base_uri": "https://localhost:8080/",
          "height": 198
        },
        "id": "JKdbkwYktGS8",
        "outputId": "ef3c5130-c54e-44bd-f122-bc4b08750c37"
      },
      "execution_count": null,
      "outputs": [
        {
          "output_type": "stream",
          "name": "stdout",
          "text": [
            "('José', 23, 'Tópicos Avançados', [60, 50, 80])\n"
          ]
        },
        {
          "output_type": "error",
          "ename": "TypeError",
          "evalue": "'tuple' object does not support item assignment",
          "traceback": [
            "\u001b[0;31m---------------------------------------------------------------------------\u001b[0m",
            "\u001b[0;31mTypeError\u001b[0m                                 Traceback (most recent call last)",
            "\u001b[0;32m<ipython-input-24-c8e689150afe>\u001b[0m in \u001b[0;36m<cell line: 3>\u001b[0;34m()\u001b[0m\n\u001b[1;32m      1\u001b[0m \u001b[0mprint\u001b[0m\u001b[0;34m(\u001b[0m\u001b[0maluno1\u001b[0m\u001b[0;34m)\u001b[0m\u001b[0;34m\u001b[0m\u001b[0;34m\u001b[0m\u001b[0m\n\u001b[1;32m      2\u001b[0m \u001b[0;31m# alterando o nome do estudante 1\u001b[0m\u001b[0;34m\u001b[0m\u001b[0;34m\u001b[0m\u001b[0m\n\u001b[0;32m----> 3\u001b[0;31m \u001b[0maluno1\u001b[0m\u001b[0;34m[\u001b[0m\u001b[0;36m0\u001b[0m\u001b[0;34m]\u001b[0m \u001b[0;34m=\u001b[0m \u001b[0;34m\"João\"\u001b[0m\u001b[0;34m\u001b[0m\u001b[0;34m\u001b[0m\u001b[0m\n\u001b[0m",
            "\u001b[0;31mTypeError\u001b[0m: 'tuple' object does not support item assignment"
          ]
        }
      ]
    },
    {
      "cell_type": "code",
      "source": [
        "#Embora uma tupla em si seja imutável, se a tupla contém elementos mutáveis (como listas), os\n",
        "#conteúdos desses elementos podem ser modificados. No exemplo abaixo:\n",
        "aluno3 = (\"Gustavo Almeida\", 23, \"Lógica de Programação\", [40,70,90])\n",
        "aluno3[3][1] = 80\n",
        "print(aluno3)\n"
      ],
      "metadata": {
        "colab": {
          "base_uri": "https://localhost:8080/"
        },
        "id": "5iySOjGarGq0",
        "outputId": "b2974d28-9e0e-4e8c-8c03-3093a970f9be"
      },
      "execution_count": null,
      "outputs": [
        {
          "output_type": "stream",
          "name": "stdout",
          "text": [
            "('Gustavo Almeida', 23, 'Lógica de Programação', [40, 80, 90])\n"
          ]
        }
      ]
    },
    {
      "cell_type": "code",
      "source": [
        "#é possível armazenar cada parte da tupla em variáveis\n",
        "nome, idade, disciplina, notas = aluno1\n",
        "print(nome)\n",
        "print(idade)\n",
        "print(disciplina)\n",
        "print(notas)"
      ],
      "metadata": {
        "colab": {
          "base_uri": "https://localhost:8080/"
        },
        "id": "9eSVQNUXuDQ7",
        "outputId": "949bd64e-010d-4568-a0f2-487de9d48ca0"
      },
      "execution_count": null,
      "outputs": [
        {
          "output_type": "stream",
          "name": "stdout",
          "text": [
            "José\n",
            "23\n",
            "Tópicos Avançados\n",
            "[60, 50, 80]\n"
          ]
        }
      ]
    },
    {
      "cell_type": "markdown",
      "source": [
        "### **Resumo Tuplas**\n",
        "* Tuplas são uma estrutura de dados em Python que são semelhantes às listas, mas com uma diferença importante: são imutáveis;\n",
        "* Uma vez criada, uma tupla não pode ser modificada (adicionar, remover ou alterar itens)\n",
        "* Tuplas são ideias para representar dados que não devem ser alterados, exemplos:\n",
        "  * Coordenadas geográficas (latitude, longitude);\n",
        "  * Dimensões de objetos;\n",
        "  * Pontos em um plano cartesiano."
      ],
      "metadata": {
        "id": "OcYkJr5Ju5Zm"
      }
    },
    {
      "cell_type": "markdown",
      "source": [
        "## **Listas**\n",
        "Diferente das tuplas, listas podem variar em tamanho e seus elementos podem ser\n",
        "modificados. Listas são mutáveis. Você pode definir uma lista usando os colchetes []."
      ],
      "metadata": {
        "id": "yqgW7z_JvNKd"
      }
    },
    {
      "cell_type": "code",
      "source": [
        "lista = [1,2,3,4,5]\n",
        "print(lista)\n",
        "print(type(lista))\n",
        "print(len(lista))"
      ],
      "metadata": {
        "colab": {
          "base_uri": "https://localhost:8080/"
        },
        "id": "9JtDMdsmumAl",
        "outputId": "b38cf2b4-a62c-4506-95ce-4dff356596e4"
      },
      "execution_count": null,
      "outputs": [
        {
          "output_type": "stream",
          "name": "stdout",
          "text": [
            "[1, 2, 3, 4, 5]\n",
            "<class 'list'>\n",
            "5\n"
          ]
        }
      ]
    },
    {
      "cell_type": "code",
      "source": [
        "lista = [\"Maria\", \"João\", \"José\", 1,2,3, 4.5]\n",
        "print(lista)\n",
        "print(len(lista))\n",
        "print(type(lista))"
      ],
      "metadata": {
        "colab": {
          "base_uri": "https://localhost:8080/"
        },
        "id": "5mXfpluKvdu8",
        "outputId": "c2591908-53bd-4d71-9257-710150b0996a"
      },
      "execution_count": null,
      "outputs": [
        {
          "output_type": "stream",
          "name": "stdout",
          "text": [
            "['Maria', 'João', 'José', 1, 2, 3, 4.5]\n",
            "7\n",
            "<class 'list'>\n"
          ]
        }
      ]
    },
    {
      "cell_type": "code",
      "source": [
        "# pode-se criar listas a partir de um range\n",
        "# parâmetros do range são (start, stop, step)\n",
        "lista = list(range(10))\n",
        "print(lista)\n",
        "lista = list(range(1,10))\n",
        "print(lista)\n",
        "lista = list(range(5,100,5))\n",
        "print(lista)"
      ],
      "metadata": {
        "colab": {
          "base_uri": "https://localhost:8080/"
        },
        "id": "BSjkivipvjBM",
        "outputId": "63fd68f5-ca2a-403d-9b53-d0af56b691fc"
      },
      "execution_count": null,
      "outputs": [
        {
          "output_type": "stream",
          "name": "stdout",
          "text": [
            "[0, 1, 2, 3, 4, 5, 6, 7, 8, 9]\n",
            "[1, 2, 3, 4, 5, 6, 7, 8, 9]\n",
            "[5, 10, 15, 20, 25, 30, 35, 40, 45, 50, 55, 60, 65, 70, 75, 80, 85, 90, 95]\n"
          ]
        }
      ]
    },
    {
      "cell_type": "code",
      "source": [
        "#inserindo itens\n",
        "carros = []\n",
        "# append adiciona ao final\n",
        "carros.append(\"Fusca\")\n",
        "carros.append(\"Gol\")\n",
        "carros.append(\"Celta\")\n",
        "print(carros)\n",
        "carros.insert(0,\"Palio\")\n",
        "print(carros)"
      ],
      "metadata": {
        "colab": {
          "base_uri": "https://localhost:8080/"
        },
        "id": "5Ssqp_PJvstV",
        "outputId": "3b4305c7-5e76-40bf-a2f8-9adf8e8db45f"
      },
      "execution_count": null,
      "outputs": [
        {
          "output_type": "stream",
          "name": "stdout",
          "text": [
            "['Fusca', 'Gol', 'Celta']\n",
            "['Palio', 'Fusca', 'Gol', 'Celta']\n"
          ]
        }
      ]
    },
    {
      "cell_type": "code",
      "source": [
        "# removendo itens\n",
        "# pop remove do final\n",
        "carros.pop()\n",
        "print(carros)\n",
        "carros.pop(0)\n",
        "print(carros)"
      ],
      "metadata": {
        "colab": {
          "base_uri": "https://localhost:8080/"
        },
        "id": "7aRu-MuewQP5",
        "outputId": "973ee8bc-7978-435c-f41e-e626e0127fa5"
      },
      "execution_count": null,
      "outputs": [
        {
          "output_type": "stream",
          "name": "stdout",
          "text": [
            "['Palio', 'Fusca', 'Gol']\n",
            "['Fusca', 'Gol']\n"
          ]
        }
      ]
    },
    {
      "cell_type": "code",
      "source": [
        "# é possível remover por valor\n",
        "carros = [\"Fusca\", \"Gol\", \"Celta\", \"Palio\", \"Gol\"]\n",
        "print(carros)\n",
        "# remove o primeiro valor encontrado\n",
        "carros.remove(\"Gol\")\n",
        "print(carros)"
      ],
      "metadata": {
        "colab": {
          "base_uri": "https://localhost:8080/"
        },
        "id": "qeq3fPXSwhtM",
        "outputId": "9b311137-7de6-468a-de02-eda5682a72fd"
      },
      "execution_count": null,
      "outputs": [
        {
          "output_type": "stream",
          "name": "stdout",
          "text": [
            "['Fusca', 'Gol', 'Celta', 'Palio', 'Gol']\n",
            "['Fusca', 'Celta', 'Palio', 'Gol']\n"
          ]
        }
      ]
    },
    {
      "cell_type": "code",
      "source": [
        "# busca por valor\n",
        "print(\"Mclaren\" in carros)\n",
        "print(\"Mclaren\" not in carros)"
      ],
      "metadata": {
        "colab": {
          "base_uri": "https://localhost:8080/"
        },
        "id": "3YVp91A7wzLY",
        "outputId": "219dbef1-b37b-4dee-9ebf-31baeadb41d4"
      },
      "execution_count": null,
      "outputs": [
        {
          "output_type": "stream",
          "name": "stdout",
          "text": [
            "False\n",
            "True\n"
          ]
        }
      ]
    },
    {
      "cell_type": "code",
      "source": [
        "# Concatenção\n",
        "carros1 = [\"Fusca\", \"Gol\", \"Celta\"]\n",
        "carros2 = [\"Palio\", \"Mclaren\"]\n",
        "carros = carros1 + carros2\n",
        "print(carros)\n",
        "numeros = [1,2,3]\n",
        "carros = carros1 + carros2 + numeros\n",
        "print(carros)"
      ],
      "metadata": {
        "colab": {
          "base_uri": "https://localhost:8080/"
        },
        "id": "oNGzdJMzxBCe",
        "outputId": "76d4ceed-12e4-456e-90a1-7811d24ddca6"
      },
      "execution_count": null,
      "outputs": [
        {
          "output_type": "stream",
          "name": "stdout",
          "text": [
            "['Fusca', 'Gol', 'Celta', 'Palio', 'Mclaren']\n",
            "['Fusca', 'Gol', 'Celta', 'Palio', 'Mclaren', 1, 2, 3]\n"
          ]
        }
      ]
    },
    {
      "cell_type": "code",
      "source": [
        "#ordenação\n",
        "numeros = [1,2,3,4,5]\n",
        "numeros.sort()\n",
        "print(numeros)\n",
        "numeros.sort(reverse=True)\n",
        "print(numeros)"
      ],
      "metadata": {
        "colab": {
          "base_uri": "https://localhost:8080/"
        },
        "id": "jSZ3ZA6YxRe_",
        "outputId": "e91e1b33-e3b9-4225-b1fd-773e681b2e79"
      },
      "execution_count": null,
      "outputs": [
        {
          "output_type": "stream",
          "name": "stdout",
          "text": [
            "[1, 2, 3, 4, 5]\n",
            "[5, 4, 3, 2, 1]\n"
          ]
        }
      ]
    },
    {
      "cell_type": "code",
      "source": [
        "#Ordenação\n",
        "frutas = [\"maçã\", \"banana\", \"laranja\", \"uva\"]\n",
        "frutas.sort(key=len)\n",
        "print(frutas)"
      ],
      "metadata": {
        "colab": {
          "base_uri": "https://localhost:8080/"
        },
        "id": "aJwAO5FRxfvz",
        "outputId": "1fc04cd8-dfe7-4c60-bfca-95fb090cca78"
      },
      "execution_count": null,
      "outputs": [
        {
          "output_type": "stream",
          "name": "stdout",
          "text": [
            "['uva', 'maçã', 'banana', 'laranja']\n"
          ]
        }
      ]
    },
    {
      "cell_type": "markdown",
      "source": [
        "**Fatiamento**\n",
        "\n",
        "```\n",
        " ---------------------\n",
        " | a | b | c | d | e |\n",
        " ---------------------\n",
        " 0   1   2   3   4   5\n",
        "-5  -4  -3  -2   -1  0\n",
        "\n",
        "```\n",
        "\n"
      ],
      "metadata": {
        "id": "e6piIobD10PZ"
      }
    },
    {
      "cell_type": "code",
      "source": [
        "#Fatiamento\n",
        "letras = [\"a\", \"b\", \"c\", \"d\", \"e\"]\n",
        "#[START:STOP] -> a quantidade de elementos é sempre STOP - START\n",
        "print(letras[1:4])\n",
        "print(letras[:3])\n",
        "print(letras[2:])\n",
        "# dá para utilizar valores negativos no fatiamento\n",
        "print(letras[-5:])\n",
        "print(letras[-5:-2])\n"
      ],
      "metadata": {
        "colab": {
          "base_uri": "https://localhost:8080/"
        },
        "id": "bHQkvfINxw8Y",
        "outputId": "c3be9dc8-806e-4333-f99e-bf98bb7cf473"
      },
      "execution_count": null,
      "outputs": [
        {
          "output_type": "stream",
          "name": "stdout",
          "text": [
            "['b', 'c', 'd']\n",
            "['a', 'b', 'c']\n",
            "['c', 'd', 'e']\n",
            "['a', 'b', 'c', 'd', 'e']\n",
            "['a', 'b', 'c']\n"
          ]
        }
      ]
    },
    {
      "cell_type": "markdown",
      "source": [
        "## **Sets**\n",
        "Igual a lista, porém os valores devem ser únicos"
      ],
      "metadata": {
        "id": "QRtaJvfEI5yD"
      }
    },
    {
      "cell_type": "code",
      "source": [
        "meuSet = {1,2,3,4,5}\n",
        "print(meuSet)\n",
        "print(type(meuSet))\n",
        "print(len(meuSet))"
      ],
      "metadata": {
        "colab": {
          "base_uri": "https://localhost:8080/"
        },
        "id": "KoA67E9oKXUH",
        "outputId": "5b584bfc-7fba-47bc-b7d9-1ce1b651dac7"
      },
      "execution_count": null,
      "outputs": [
        {
          "output_type": "stream",
          "name": "stdout",
          "text": [
            "{1, 2, 3, 4, 5}\n",
            "<class 'set'>\n",
            "5\n"
          ]
        }
      ]
    },
    {
      "cell_type": "code",
      "source": [
        "#adicionando\n",
        "meuSet.add(100)\n",
        "print(meuSet)"
      ],
      "metadata": {
        "colab": {
          "base_uri": "https://localhost:8080/"
        },
        "id": "ibkj3HFyKnI8",
        "outputId": "8a6e6ecf-8f88-4172-f7e5-5d5d1d763209"
      },
      "execution_count": null,
      "outputs": [
        {
          "output_type": "stream",
          "name": "stdout",
          "text": [
            "{1, 2, 3, 4, 5, 100}\n"
          ]
        }
      ]
    },
    {
      "cell_type": "code",
      "source": [
        "# adicionando novamente\n",
        "meuSet.add(100)\n",
        "print(meuSet)\n",
        "# removendo\n",
        "meuSet.discard(100)\n",
        "print(meuSet)"
      ],
      "metadata": {
        "colab": {
          "base_uri": "https://localhost:8080/"
        },
        "id": "Fq-2arDLKnF6",
        "outputId": "77828e8e-9288-4d95-fa15-25a6c0b159ce"
      },
      "execution_count": null,
      "outputs": [
        {
          "output_type": "stream",
          "name": "stdout",
          "text": [
            "{1, 2, 3, 4, 5, 100}\n",
            "{1, 2, 3, 4, 5}\n"
          ]
        }
      ]
    },
    {
      "cell_type": "code",
      "source": [
        "#convertendo para lista\n",
        "lista = list(meuSet)\n",
        "print(lista)"
      ],
      "metadata": {
        "colab": {
          "base_uri": "https://localhost:8080/"
        },
        "id": "EB0vLMiBKm9W",
        "outputId": "f7600759-8988-405d-f5b9-5238453da901"
      },
      "execution_count": null,
      "outputs": [
        {
          "output_type": "stream",
          "name": "stdout",
          "text": [
            "[1, 2, 3, 4, 5, 100]\n"
          ]
        }
      ]
    },
    {
      "cell_type": "code",
      "source": [
        "#mais métodos de set\n",
        "meuSet = {1,2,3,4,5}\n",
        "meuSet2 = {4,5,6,7,8}\n",
        "print(meuSet.union(meuSet2))\n",
        "print(meuSet.intersection(meuSet2))\n",
        "print(meuSet.symmetric_difference(meuSet2))"
      ],
      "metadata": {
        "colab": {
          "base_uri": "https://localhost:8080/"
        },
        "id": "_6Ejj-UCKmzc",
        "outputId": "5a437f95-bcd7-4e88-ed05-6baeceb246f8"
      },
      "execution_count": null,
      "outputs": [
        {
          "output_type": "stream",
          "name": "stdout",
          "text": [
            "{1, 2, 3, 4, 5, 6, 7, 8}\n",
            "{4, 5}\n",
            "{1, 2, 3, 6, 7, 8}\n"
          ]
        }
      ]
    },
    {
      "cell_type": "code",
      "source": [
        "print(meuSet | meuSet2) #or\n",
        "print(meuSet & meuSet2) #and\n",
        "print(meuSet ^ meuSet2) #xor"
      ],
      "metadata": {
        "colab": {
          "base_uri": "https://localhost:8080/"
        },
        "id": "l1YpKK4TK_cm",
        "outputId": "4c443b49-a1a7-4083-d65b-c698347aa9c4"
      },
      "execution_count": null,
      "outputs": [
        {
          "output_type": "stream",
          "name": "stdout",
          "text": [
            "{1, 2, 3, 4, 5, 6, 7, 8}\n",
            "{4, 5}\n",
            "{1, 2, 3, 6, 7, 8}\n"
          ]
        }
      ]
    },
    {
      "cell_type": "code",
      "source": [
        "#curiosidade.\n",
        "# 5 XOR 6, qual o resultado?\n",
        "a = 5\n",
        "b = 6\n",
        "print(a ^ b)\n",
        "# 5 - 101\n",
        "# 6 - 110\n",
        "# 3 - 011"
      ],
      "metadata": {
        "colab": {
          "base_uri": "https://localhost:8080/"
        },
        "id": "VKACdq3bN3nv",
        "outputId": "ae000893-4b72-40b3-9d13-c9aac61b7bb4"
      },
      "execution_count": null,
      "outputs": [
        {
          "output_type": "stream",
          "name": "stdout",
          "text": [
            "3\n"
          ]
        }
      ]
    },
    {
      "cell_type": "markdown",
      "source": [
        "## **Dicionários**\n",
        "* Dicionários são uma estrutura de dados em Python que armazenam pares de chave-valor.\n",
        "* Extremamente úteis quando você precisa associar informações ou quando a busca por valores com base em uma chave é frequente."
      ],
      "metadata": {
        "id": "ux7kA0XO2lwI"
      }
    },
    {
      "cell_type": "code",
      "source": [
        "dados = {\"nome\": \"João\", \"idade\": 25, \"cidade\": \"São Paulo\"}\n",
        "print(dados)\n",
        "print(type(dados))\n",
        "print(len(dados))"
      ],
      "metadata": {
        "id": "bOMzlxsAyKeM",
        "colab": {
          "base_uri": "https://localhost:8080/"
        },
        "outputId": "e4dbc546-ea06-4367-f599-240ebdf0191e"
      },
      "execution_count": null,
      "outputs": [
        {
          "output_type": "stream",
          "name": "stdout",
          "text": [
            "{'nome': 'João', 'idade': 25, 'cidade': 'São Paulo'}\n",
            "<class 'dict'>\n",
            "3\n"
          ]
        }
      ]
    },
    {
      "cell_type": "code",
      "source": [
        "#acessando valores\n",
        "print(dados[\"nome\"])\n",
        "print(dados[\"idade\"])\n",
        "print(dados[\"cidade\"])"
      ],
      "metadata": {
        "colab": {
          "base_uri": "https://localhost:8080/"
        },
        "id": "0b4pr5gEAh0D",
        "outputId": "65b27388-5499-4697-ee40-2aa503a23980"
      },
      "execution_count": null,
      "outputs": [
        {
          "output_type": "stream",
          "name": "stdout",
          "text": [
            "João\n",
            "25\n",
            "São Paulo\n"
          ]
        }
      ]
    },
    {
      "cell_type": "code",
      "source": [
        "#modificando valores\n",
        "dados[\"idade\"] = 26\n",
        "print(dados)"
      ],
      "metadata": {
        "colab": {
          "base_uri": "https://localhost:8080/"
        },
        "id": "PzSrXjYRAqCj",
        "outputId": "4d2b1623-353b-4e09-f383-96018f011a92"
      },
      "execution_count": null,
      "outputs": [
        {
          "output_type": "stream",
          "name": "stdout",
          "text": [
            "{'nome': 'João', 'idade': 26, 'cidade': 'São Paulo'}\n"
          ]
        }
      ]
    },
    {
      "cell_type": "code",
      "source": [
        "#adicionar novos valores\n",
        "dados[\"estado\"] = \"SP\"\n",
        "dados[\"profissão\"] = \"Engenheiro\"\n",
        "print(dados)"
      ],
      "metadata": {
        "colab": {
          "base_uri": "https://localhost:8080/"
        },
        "id": "EpnQ7f0QAxYR",
        "outputId": "6ca76e82-9077-4851-edf4-57c32ad0a7d1"
      },
      "execution_count": null,
      "outputs": [
        {
          "output_type": "stream",
          "name": "stdout",
          "text": [
            "{'nome': 'João', 'idade': 26, 'cidade': 'São Paulo', 'estado': 'SP', 'profissão': 'Engenheiro'}\n"
          ]
        }
      ]
    },
    {
      "cell_type": "code",
      "source": [
        "#Removendo chave-valor\n",
        "del dados[\"cidade\"]\n",
        "print(dados)"
      ],
      "metadata": {
        "colab": {
          "base_uri": "https://localhost:8080/"
        },
        "id": "3RElCtOOA5HX",
        "outputId": "aaf4cd97-ab0c-4833-aa97-5670760ca1fd"
      },
      "execution_count": null,
      "outputs": [
        {
          "output_type": "stream",
          "name": "stdout",
          "text": [
            "{'nome': 'João', 'idade': 26, 'estado': 'SP', 'profissão': 'Engenheiro'}\n"
          ]
        }
      ]
    },
    {
      "cell_type": "code",
      "source": [
        "#imprimir todos os elementos\n",
        "for chave, valor in dados.items():\n",
        "    print(f\"{chave}: {valor}\")"
      ],
      "metadata": {
        "colab": {
          "base_uri": "https://localhost:8080/"
        },
        "id": "S6YB9kKQBJ6s",
        "outputId": "fed20193-6071-456d-a832-f0f2e3594b31"
      },
      "execution_count": null,
      "outputs": [
        {
          "output_type": "stream",
          "name": "stdout",
          "text": [
            "nome: João\n",
            "idade: 26\n",
            "estado: SP\n",
            "profissão: Engenheiro\n"
          ]
        }
      ]
    },
    {
      "cell_type": "code",
      "source": [
        "#dicionários com n dimensões\n",
        "# utilizaremos neste exemplo um ID como chave.\n",
        "alunos = {\n",
        "    1: {\"nome\":\"João\",\"idade\": 25, \"cidade\": \"São Paulo\", \"notas\":[90,75,76]},\n",
        "    89: {\"nome\":\"Maria\",\"idade\": 22, \"cidade\": \"Rio de Janeiro\",\"notas\":[100,72,73]},\n",
        "    57: {\"nome\":\"Pedro\",\"idade\": 28, \"cidade\": \"Belo Horizonte\", \"notas\":[25,85.90,68],\n",
        "              \"email\":\"pedro@gmail.com\"}\n",
        "}\n",
        "print(alunos)"
      ],
      "metadata": {
        "colab": {
          "base_uri": "https://localhost:8080/"
        },
        "id": "sIh3pOpMBRm2",
        "outputId": "44233c19-b2e2-49ba-90d2-2a5cf858193b"
      },
      "execution_count": null,
      "outputs": [
        {
          "output_type": "stream",
          "name": "stdout",
          "text": [
            "{1: {'nome': 'João', 'idade': 25, 'cidade': 'São Paulo', 'notas': [90, 75, 76]}, 89: {'nome': 'Maria', 'idade': 22, 'cidade': 'Rio de Janeiro', 'notas': [100, 72, 73]}, 57: {'nome': 'Pedro', 'idade': 28, 'cidade': 'Belo Horizonte', 'notas': [25, 85.9, 68], 'email': 'pedro@gmail.com'}}\n"
          ]
        }
      ]
    },
    {
      "cell_type": "code",
      "source": [
        "#Como acessa a nota 2 do estudante \"Pedro\"??\n",
        "alunos[57][\"notas\"][1]"
      ],
      "metadata": {
        "colab": {
          "base_uri": "https://localhost:8080/"
        },
        "id": "00i9rieXB4T5",
        "outputId": "869c6f0f-3a92-43d1-df64-554e0834503b"
      },
      "execution_count": null,
      "outputs": [
        {
          "output_type": "execute_result",
          "data": {
            "text/plain": [
              "75"
            ]
          },
          "metadata": {},
          "execution_count": 12
        }
      ]
    },
    {
      "cell_type": "code",
      "source": [
        "#usando try catch para evitar erros, quando a chave não existe\n",
        "try:\n",
        "  print(alunos[45])\n",
        "except KeyError:\n",
        "  print(\"Aluno não encontrado\")"
      ],
      "metadata": {
        "colab": {
          "base_uri": "https://localhost:8080/"
        },
        "id": "5Vx1dxEEClfO",
        "outputId": "1b8a3a31-f6ff-487b-cfe7-0297a6a59064"
      },
      "execution_count": null,
      "outputs": [
        {
          "output_type": "stream",
          "name": "stdout",
          "text": [
            "Aluno não encontrado\n"
          ]
        }
      ]
    },
    {
      "cell_type": "code",
      "source": [
        "# Perguntando a chave para o usuário e tentando acessar o alunos pelo ID\n",
        "try:\n",
        "  x = int(input(\"Informe o ID do estudante: \"))\n",
        "except ValueError:\n",
        "  print(\"ID inválido\")\n",
        "else:\n",
        "  try:\n",
        "    print(alunos[x])\n",
        "  except KeyError:\n",
        "    print(\"Estudante não encontrado\")\n"
      ],
      "metadata": {
        "colab": {
          "base_uri": "https://localhost:8080/"
        },
        "id": "MczBcVvaD5cw",
        "outputId": "539f4c1c-5307-4052-fd7f-83fe7cf85ba6"
      },
      "execution_count": null,
      "outputs": [
        {
          "output_type": "stream",
          "name": "stdout",
          "text": [
            "Informe o ID do estudante: 57\n",
            "{'nome': 'Pedro', 'idade': 28, 'cidade': 'Belo Horizonte', 'notas': [25, 85.9, 68], 'email': 'pedro@gmail.com'}\n"
          ]
        }
      ]
    },
    {
      "cell_type": "markdown",
      "source": [
        "# **Funções**\n",
        "* As funções são blocos de código que recebem um nome e executam determinada tarefa.\n",
        "* Quando precisamos realizar a tarefa que foi definida numa função, não é preciso digitar tudo\n",
        "novamente, apenas chamamos a função.\n",
        "* Para executar a tarefa, as funções podem precisar de dados, que chamamos de parâmetros ou\n",
        "argumentos.\n",
        "* As funções também podem ou não retornar um ou mais valores ao final da execução."
      ],
      "metadata": {
        "id": "Gu8MKtGsMx03"
      }
    },
    {
      "cell_type": "code",
      "source": [
        "def olaMundo():\n",
        "    print(\"Olá Mundo!\")\n",
        "\n",
        "print(type(olaMundo))\n",
        "print(\"Chamando a função olaMundo()...!\")\n",
        "olaMundo()"
      ],
      "metadata": {
        "colab": {
          "base_uri": "https://localhost:8080/"
        },
        "id": "Dt0GsBSiEL-v",
        "outputId": "07ae7db4-65dc-457b-e11f-c292ccbc1ed1"
      },
      "execution_count": null,
      "outputs": [
        {
          "output_type": "stream",
          "name": "stdout",
          "text": [
            "<class 'function'>\n",
            "Chamando a função ola_mundo!\n",
            "Olá Mundo!\n"
          ]
        }
      ]
    },
    {
      "cell_type": "code",
      "source": [
        "#parâmetros\n",
        "def descreva_pessoa(nome, idade):\n",
        "    print(f\"\\nNome: {nome}\")\n",
        "    print(f\"Idade: {idade}\")\n",
        "\n",
        "descreva_pessoa(\"João\", 25)\n",
        "descreva_pessoa(\"Maria\", 30)"
      ],
      "metadata": {
        "colab": {
          "base_uri": "https://localhost:8080/"
        },
        "id": "nvt_0kcNOVUm",
        "outputId": "7e95678f-dc79-4bc0-e6c8-dcfa73c7497f"
      },
      "execution_count": null,
      "outputs": [
        {
          "output_type": "stream",
          "name": "stdout",
          "text": [
            "\n",
            "Nome: João\n",
            "Idade: 25\n",
            "\n",
            "Nome: Maria\n",
            "Idade: 30\n"
          ]
        }
      ]
    },
    {
      "cell_type": "code",
      "source": [
        "# retornando valores\n",
        "def repetirString(string, vezes):\n",
        "    s = \"\"\n",
        "    for i in range(vezes):\n",
        "        s += string\n",
        "    return s\n",
        "\n",
        "saida = repetirString(\"Olá \", 5)\n",
        "print(saida)"
      ],
      "metadata": {
        "colab": {
          "base_uri": "https://localhost:8080/"
        },
        "id": "iEShZyYxZf1y",
        "outputId": "9e3e4f2b-e829-439c-9d56-3456fbf6a920"
      },
      "execution_count": null,
      "outputs": [
        {
          "output_type": "stream",
          "name": "stdout",
          "text": [
            "Olá Olá Olá Olá Olá \n"
          ]
        }
      ]
    },
    {
      "cell_type": "code",
      "source": [
        "#escopo de variaveis\n",
        "\n",
        "def funcao():\n",
        "    x = \"Fantástico\"\n",
        "    print(\"Escopo local...\")\n",
        "    print(\"Python é \"+x)\n",
        "\n",
        "x = \"Impressionante\"\n",
        "funcao()\n",
        "print(\"Escopo global...\")\n",
        "print(\"Python é \"+ x)"
      ],
      "metadata": {
        "colab": {
          "base_uri": "https://localhost:8080/"
        },
        "id": "nF7-BEfAb6nO",
        "outputId": "285ac324-96d8-4752-a75c-c1f3cc50719f"
      },
      "execution_count": null,
      "outputs": [
        {
          "output_type": "stream",
          "name": "stdout",
          "text": [
            "Escopo local...\n",
            "Python é Fantástico\n",
            "Escopo global...\n",
            "Python é Impressionante\n"
          ]
        }
      ]
    },
    {
      "cell_type": "code",
      "source": [
        "# parametros com default\n",
        "def say_hello(name=\"Darth Vader\", emoji=\"?\"):\n",
        "  print(f\"Hello {name} {emoji}\")\n",
        "\n",
        "say_hello(\"World\", \"😀\")\n",
        "#keyword arguments (não é muito usado)\n",
        "say_hello(emoji=\":)\", name=\"World\")\n",
        "say_hello('Im not your father')\n",
        "say_hello()"
      ],
      "metadata": {
        "colab": {
          "base_uri": "https://localhost:8080/"
        },
        "id": "7P38Hi0LcPGB",
        "outputId": "ef6bfd39-ee9d-433f-f716-31869867d044"
      },
      "execution_count": null,
      "outputs": [
        {
          "output_type": "stream",
          "name": "stdout",
          "text": [
            "Hello World 😀\n",
            "Hello World :)\n",
            "Hello Im not your father ?\n",
            "Hello Darth Vader ?\n"
          ]
        }
      ]
    },
    {
      "cell_type": "markdown",
      "source": [
        "# **Classes**\n",
        "* No contexto da programação orientada a objetos, as classes representam coisas e situações do\n",
        "mundo real.\n",
        "* Com base nas classes, criamos ou “instanciamos” objetos.\n",
        "* A classe funciona como um \"molde\" para a criação de objetos. Uma classe define um\n",
        "comportamento geral que uma categoria de objetos deve apresentar."
      ],
      "metadata": {
        "id": "AivSqgu1deVt"
      }
    },
    {
      "cell_type": "code",
      "source": [
        "class Dog:\n",
        "  def __init__(self, name, age):\n",
        "    #inicializa os atributos\n",
        "    self.name = name\n",
        "    self.age = age\n",
        "\n",
        "  def sit(self):\n",
        "    #simula o cachorro atendendo ao comando\n",
        "    print(f\"{self.name} está sentado\")\n",
        "\n",
        "  def roll_over(self):\n",
        "    #simula o cachorro atendendo ao comando\n",
        "    print(f\"{self.name} rolou!\")\n",
        "\n",
        "meuCusco = Dog(\"Monstro\",3)\n",
        "print(f\"O nome do meu cusco é {meuCusco.name} e ele tem {meuCusco.age} anos\")\n",
        "meuCusco.sit()\n",
        "meuCusco.roll_over()"
      ],
      "metadata": {
        "id": "soyW3nlfcynD",
        "colab": {
          "base_uri": "https://localhost:8080/"
        },
        "outputId": "1a4cd8a9-285e-4dc3-d66c-bab457a1011c"
      },
      "execution_count": 5,
      "outputs": [
        {
          "output_type": "stream",
          "name": "stdout",
          "text": [
            "O nome do meu cusco é Monstro e ele tem 3 anos\n",
            "Monstro está sentado\n",
            "Monstro rolou!\n"
          ]
        }
      ]
    },
    {
      "cell_type": "code",
      "source": [
        "# Herança e polimorfismo\n",
        "class Veiculo:\n",
        "  def __init__(self, marca, modelo):\n",
        "    self.marca = marca\n",
        "    self.modelo = modelo\n",
        "\n",
        "  def mostrarDetalhes(self):\n",
        "    print(f\"Marca: {self.marca}, Modelo: {self.modelo}\")\n",
        "\n",
        "class Carro(Veiculo):\n",
        "  def __init__(self, marca, modelo, cor):\n",
        "    super().__init__(marca, modelo)\n",
        "    self.cor = cor\n",
        "\n",
        "class Moto(Veiculo):\n",
        "  def __init__(self, marca, modelo, cilindrada):\n",
        "    super().__init__(marca, modelo)\n",
        "    self.cilindrada = cilindrada\n",
        "\n",
        "def mostrarInformacoes(veiculo):\n",
        "  veiculo.mostrarDetalhes()\n",
        "\n",
        "\n",
        "carro = Carro(\"Toyota\", \"Corolla\", \"Vermelho\")\n",
        "moto = Moto(\"Honda\", \"CBR\", 500)\n",
        "\n",
        "mostrarInformacoes(carro)\n",
        "mostrarInformacoes(moto)"
      ],
      "metadata": {
        "colab": {
          "base_uri": "https://localhost:8080/"
        },
        "id": "0XFG5YemH5ZQ",
        "outputId": "fffdfe07-bf90-4d23-e9e2-4e8826466dae"
      },
      "execution_count": 6,
      "outputs": [
        {
          "output_type": "stream",
          "name": "stdout",
          "text": [
            "Marca: Toyota, Modelo: Corolla\n",
            "Marca: Honda, Modelo: CBR\n"
          ]
        }
      ]
    },
    {
      "cell_type": "code",
      "source": [],
      "metadata": {
        "id": "kEedYONLKZJ1"
      },
      "execution_count": null,
      "outputs": []
    },
    {
      "cell_type": "markdown",
      "source": [
        "# **==-Exercícios-==**\n",
        "1. **Tuplas:**\n",
        "\n",
        "    Crie uma tupla com os nomes dos dias da semana e solicite ao usuário que digite um número de 1 a 7. Exiba o dia correspondente ao número digitado.\n",
        "\n",
        "2. **Listas:**\n",
        "\n",
        "    Escreva um programa que crie uma lista vazia e permita que o usuário adicione 5 números inteiros. Em seguida, exiba a lista e a soma de todos os números contidos nela.\n",
        "\n",
        "3. **Sets:**\n",
        "\n",
        "    Crie dois conjuntos (sets) com elementos inteiros. Realize as operações de união, interseção e diferença entre eles, e exiba os resultados.\n",
        "\n",
        "4. **Dicionários:**\n",
        "\n",
        "    Desenvolva um programa que armazene as notas de três disciplinas em um dicionário, onde as chaves são os nomes das disciplinas e os valores são as notas. Calcule e exiba a média das notas.\n",
        "\n",
        "5. **Funções:**\n",
        "\n",
        "    Implemente uma função chamada calcular_fatorial que receba um número inteiro e retorne o seu fatorial. Use essa função para calcular o fatorial de um número fornecido pelo usuário.\n",
        "\n",
        "6. **Classes (Exemplo Alternativo):**\n",
        "\n",
        "    Crie uma classe chamada Retangulo que tenha os atributos largura e altura. Adicione um método chamado calcular_area que retorne a área do retângulo (largura * altura). Adicione também um método chamado calcular_perimetro que retorne o perímetro (2 * (largura + altura)). Instancie um objeto dessa classe com valores de sua escolha e exiba a área e o perímetro.\n",
        "\n",
        "7. **Tuplas e Funções:**\n",
        "\n",
        "    Escreva uma função que receba uma tupla de números inteiros e retorne a soma dos elementos. Teste a função com uma tupla de exemplo.\n",
        "\n",
        "8. **Listas e Sets:**\n",
        "\n",
        "    Crie uma lista com alguns elementos duplicados. Converta essa lista em um set para remover as duplicatas e exiba o set resultante.\n",
        "\n",
        "9. **Dicionários e Funções:**\n",
        "\n",
        "    Crie uma função chamada contar_ocorrencias que receba uma lista de palavras e retorne um dicionário com a contagem de ocorrências de cada palavra. Teste a função com uma lista de exemplo.\n",
        "\n",
        "10. **Classes e Listas:**\n",
        "\n",
        "    Crie uma classe chamada Aluno com os atributos nome e nota. Crie uma lista com três objetos Aluno, cada um com um nome e uma nota. Implemente um método na classe que determine se o aluno foi aprovado (nota >= 7) e use esse método para verificar se cada aluno foi aprovado."
      ],
      "metadata": {
        "id": "IeQV4FhoKgNq"
      }
    },
    {
      "cell_type": "code",
      "source": [],
      "metadata": {
        "id": "nWtIeGsuKiq1"
      },
      "execution_count": null,
      "outputs": []
    }
  ]
}