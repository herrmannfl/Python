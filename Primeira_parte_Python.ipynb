{
  "nbformat": 4,
  "nbformat_minor": 0,
  "metadata": {
    "colab": {
      "provenance": [],
      "toc_visible": true,
      "authorship_tag": "ABX9TyO4L3sZiirmR8KE2JQ0HhyM",
      "include_colab_link": true
    },
    "kernelspec": {
      "name": "python3",
      "display_name": "Python 3"
    },
    "language_info": {
      "name": "python"
    }
  },
  "cells": [
    {
      "cell_type": "markdown",
      "metadata": {
        "id": "view-in-github",
        "colab_type": "text"
      },
      "source": [
        "<a href=\"https://colab.research.google.com/github/herrmannfl/Python/blob/main/Primeira_parte_Python.ipynb\" target=\"_parent\"><img src=\"https://colab.research.google.com/assets/colab-badge.svg\" alt=\"Open In Colab\"/></a>"
      ]
    },
    {
      "cell_type": "markdown",
      "source": [
        "# **Variáveis, tipos de variáveis, constantes, texto**"
      ],
      "metadata": {
        "id": "Bu3TJXbQ96OG"
      }
    },
    {
      "cell_type": "code",
      "execution_count": 8,
      "metadata": {
        "colab": {
          "base_uri": "https://localhost:8080/",
          "height": 0
        },
        "id": "c6MGYH68SdRE",
        "outputId": "7370ede3-bb59-4f39-b4de-5ba470986b43"
      },
      "outputs": [
        {
          "output_type": "stream",
          "name": "stdout",
          "text": [
            "<class 'int'>\n",
            "<class 'int'>\n",
            "Soma: 13\n"
          ]
        }
      ],
      "source": [
        "#Variáveis inteira\n",
        "a = 5\n",
        "# imprimindo o tipo da variável a\n",
        "print(type(a))\n",
        "b = 8\n",
        "c = a+b\n",
        "# imprimindo o tipo da variável c\n",
        "print(type(c))\n",
        "print(\"Soma:\",c)\n",
        "#outros tipos de variáveis\n",
        "#int,float,bool,str,list,tuple,dict,classes"
      ]
    },
    {
      "cell_type": "code",
      "source": [
        "print(type(4.56))\n",
        "print(type(2/4)) # 0.5\n",
        "print(type(False))\n",
        "print(type(\"Isso é um texto!\"))"
      ],
      "metadata": {
        "id": "aN5iTaXvSlkZ",
        "colab": {
          "base_uri": "https://localhost:8080/",
          "height": 0
        },
        "outputId": "bbd30678-c3d4-4a07-d4eb-1c75e9bc06b2"
      },
      "execution_count": 14,
      "outputs": [
        {
          "output_type": "stream",
          "name": "stdout",
          "text": [
            "<class 'float'>\n",
            "<class 'float'>\n",
            "<class 'bool'>\n",
            "<class 'str'>\n"
          ]
        }
      ]
    },
    {
      "cell_type": "code",
      "source": [
        "d = 0.5\n",
        "# tipo da variável d\n",
        "print(type(d))\n",
        "e = d * 2\n",
        "# tipo da variável e?\n",
        "print(type(e))\n",
        "print(e)\n"
      ],
      "metadata": {
        "colab": {
          "base_uri": "https://localhost:8080/",
          "height": 0
        },
        "id": "2s17FnK4_t43",
        "outputId": "6f2316ea-2870-41ed-cbaf-fdebbd41951b"
      },
      "execution_count": 16,
      "outputs": [
        {
          "output_type": "stream",
          "name": "stdout",
          "text": [
            "<class 'float'>\n",
            "<class 'float'>\n",
            "1.0\n"
          ]
        }
      ]
    },
    {
      "cell_type": "markdown",
      "source": [
        "## **Constantes**\n",
        "\n",
        "* O valor de uma constante deve permanecer o mesmo durante toda a execução de um programa\n",
        "* Python não permite definição de constantes\n",
        "* É prática comum em Python que os programadores usem variáveis com nome em letras MAIÚSCULAS para indicar que é uma constante"
      ],
      "metadata": {
        "id": "Hqk2OTXZAsb4"
      }
    },
    {
      "cell_type": "code",
      "source": [
        "MAX_VALUE = 10\n",
        "print(MAX_VALUE)"
      ],
      "metadata": {
        "colab": {
          "base_uri": "https://localhost:8080/",
          "height": 0
        },
        "id": "zgIODcw_AU2L",
        "outputId": "13cc7d7f-8131-4150-c125-3d778f91bc9f"
      },
      "execution_count": 17,
      "outputs": [
        {
          "output_type": "stream",
          "name": "stdout",
          "text": [
            "10\n"
          ]
        }
      ]
    },
    {
      "cell_type": "markdown",
      "source": [
        "## **Texto**\n",
        "\n",
        "* Os strings são um conjunto de caracteres.\n",
        "* Qualquer conjunto de caracteres entre aspas simples ou duplas é considerado um string em Python."
      ],
      "metadata": {
        "id": "F2SN3DzSBeqR"
      }
    },
    {
      "cell_type": "code",
      "source": [
        "minhaString = \"Eu estou gostando de aprender Python!\"\n",
        "print(type(minhaString))"
      ],
      "metadata": {
        "colab": {
          "base_uri": "https://localhost:8080/",
          "height": 0
        },
        "id": "E6gw2NZLBLll",
        "outputId": "b383ddc5-152a-4479-b851-60990f76a80e"
      },
      "execution_count": 22,
      "outputs": [
        {
          "output_type": "stream",
          "name": "stdout",
          "text": [
            "<class 'str'>\n"
          ]
        }
      ]
    },
    {
      "cell_type": "code",
      "source": [
        "# existem diversos métodos que podem ser utilizados com strings\n",
        "print(minhaString.upper())\n",
        "print(minhaString.lower())\n",
        "print(minhaString.title())"
      ],
      "metadata": {
        "colab": {
          "base_uri": "https://localhost:8080/",
          "height": 0
        },
        "id": "N8rD0g9wBtMZ",
        "outputId": "a8f0c2e6-8923-423d-ebf1-eaffb73ee399"
      },
      "execution_count": 23,
      "outputs": [
        {
          "output_type": "stream",
          "name": "stdout",
          "text": [
            "EU ESTOU GOSTANDO DE APRENDER PYTHON!\n",
            "eu estou gostando de aprender python!\n",
            "Eu Estou Gostando De Aprender Python!\n"
          ]
        }
      ]
    },
    {
      "cell_type": "code",
      "source": [
        "#juntar Strings\n",
        "primeiroNome = \"Fernando\"\n",
        "ultimoNome = \"Herrmann\"\n",
        "nomeCompleto = f\"{primeiroNome} {ultimoNome}\"\n",
        "print(nomeCompleto)"
      ],
      "metadata": {
        "colab": {
          "base_uri": "https://localhost:8080/",
          "height": 0
        },
        "id": "AN1FgBwaB4w-",
        "outputId": "21a1d409-17d1-4283-9909-4f824c2061ec"
      },
      "execution_count": 25,
      "outputs": [
        {
          "output_type": "stream",
          "name": "stdout",
          "text": [
            "Fernando Herrmann\n"
          ]
        }
      ]
    },
    {
      "cell_type": "code",
      "source": [
        "# remover espaços\n",
        "linguagemFavorita = \" Python \"\n",
        "print(linguagemFavorita.rstrip())\n",
        "print(linguagemFavorita.lstrip())\n",
        "print(linguagemFavorita.strip())"
      ],
      "metadata": {
        "colab": {
          "base_uri": "https://localhost:8080/",
          "height": 0
        },
        "id": "8CV4lhJVCSPQ",
        "outputId": "88d6c7ec-7e1e-4cee-c930-2b80eba89d01"
      },
      "execution_count": 26,
      "outputs": [
        {
          "output_type": "stream",
          "name": "stdout",
          "text": [
            " Python\n",
            "Python \n",
            "Python\n"
          ]
        }
      ]
    },
    {
      "cell_type": "markdown",
      "source": [
        "# **Operadores aritméticos**\n",
        "```\n",
        "Operador    Descrição         Exemplo\n",
        "  ()        Parênteses        (x + y)*2\n",
        "  +         Adição            x + y\n",
        "  -         Subtração         x - y\n",
        "  *         Multiplicação     x * y\n",
        "  /         Divisão           x / y\n",
        "  %         Módulo (resto)    x % y\n",
        "  //        Quociente         x // y\n",
        "  **        Potência          x ** y\n",
        "\n",
        "```"
      ],
      "metadata": {
        "id": "ZuexIDw0HYYc"
      }
    },
    {
      "cell_type": "code",
      "source": [
        "a = 9\n",
        "b = 4\n",
        "print(a+b)\n",
        "print(a-b)\n",
        "print(a*b)\n",
        "print(a/b)\n",
        "print(a%b)\n",
        "print(a//b)\n",
        "print(a**b)"
      ],
      "metadata": {
        "colab": {
          "base_uri": "https://localhost:8080/",
          "height": 0
        },
        "id": "AYqOkH1XC46Y",
        "outputId": "3e0e217a-fbcf-4bae-bc8b-57cce300e837"
      },
      "execution_count": 35,
      "outputs": [
        {
          "output_type": "stream",
          "name": "stdout",
          "text": [
            "13\n",
            "5\n",
            "36\n",
            "2.25\n",
            "1\n",
            "2\n",
            "6561\n"
          ]
        }
      ]
    },
    {
      "cell_type": "markdown",
      "source": [
        "## **Precedência de operadores**\n",
        "```\n",
        "Operadores       Nome dos operadores\n",
        "  ()             Parênteses\n",
        "  **             Potência\n",
        "  *,/,%,//       Multiplicação, Divisão, Modulo, Quociente\n",
        "  -,+            Subtração, Adição\n",
        "```\n",
        "\n",
        "A precedência dentro da equação sempre respeita a tabela acima e é executada da direita para esquerda"
      ],
      "metadata": {
        "id": "iai5nJ_2JGK4"
      }
    },
    {
      "cell_type": "code",
      "source": [
        "# qual o resultado?\n",
        "a = 16 - 2 * 5 // 3 + 1\n",
        "print(a)\n",
        "# Por que a resposta é 14?\n",
        "#Usando parênteses, a expressão é calculada primeiro como (2*5), depois (10 // 3), depois (16-3),\n",
        "#e finalmente (13+1)."
      ],
      "metadata": {
        "colab": {
          "base_uri": "https://localhost:8080/",
          "height": 0
        },
        "id": "KA13EgWzI1HP",
        "outputId": "82bdce38-d018-4afd-ecf2-96ccad01004c"
      },
      "execution_count": 39,
      "outputs": [
        {
          "output_type": "stream",
          "name": "stdout",
          "text": [
            "14\n"
          ]
        }
      ]
    },
    {
      "cell_type": "code",
      "source": [
        "a = 2 ** 2 ** 3 * 3\n",
        "print(a)\n",
        "#Por que a resposta é 768?\n",
        "# Exponenciação tem precedência sobre multiplicação, mas sua precedência vai da direita para a\n",
        "#esquerda! Portanto, 2 ** 3 é 8, 2 ** 8 é 256 e 256 * 3 é 768."
      ],
      "metadata": {
        "colab": {
          "base_uri": "https://localhost:8080/",
          "height": 0
        },
        "id": "VfMJwMR3KKfu",
        "outputId": "e51dbebb-3dbc-4b81-db5b-40f9ad5be887"
      },
      "execution_count": 40,
      "outputs": [
        {
          "output_type": "stream",
          "name": "stdout",
          "text": [
            "768\n"
          ]
        }
      ]
    },
    {
      "cell_type": "markdown",
      "source": [
        "# **Operadores relacionais**\n",
        "```\n",
        "Operador    Descrição            Exemplo\n",
        "  >         Menor que            x > y\n",
        "  <         Maior que            x < y\n",
        "  ==        Igual                x == y\n",
        "  !=        Diferente            x != y\n",
        "  >=        Maior ou igual que   x >= y\n",
        "  <=        Menor ou igual que   x <= y\n",
        "\n",
        "```"
      ],
      "metadata": {
        "id": "9Fw-u21XOfog"
      }
    },
    {
      "cell_type": "code",
      "source": [
        "a = 13\n",
        "b = 33\n",
        "print(a > b)\n",
        "print(a < b)\n",
        "print(a == b)\n",
        "print(a != b)\n",
        "print(a >= b)\n",
        "print(a <= b)"
      ],
      "metadata": {
        "colab": {
          "base_uri": "https://localhost:8080/",
          "height": 0
        },
        "id": "R2RFGi9bK-8n",
        "outputId": "ae903aa2-896e-46b5-8d67-4c99191cfab4"
      },
      "execution_count": 41,
      "outputs": [
        {
          "output_type": "stream",
          "name": "stdout",
          "text": [
            "False\n",
            "True\n",
            "False\n",
            "True\n",
            "False\n",
            "True\n"
          ]
        }
      ]
    },
    {
      "cell_type": "markdown",
      "source": [
        "# **Indentação**\n",
        "* Refere-se aos espaços que são colocados no início de uma linha de código.\n",
        "* Em várias linguagens de programação são úteis para a legibilidade do código.\n",
        "* Em Python, a indentação delimita um bloco de código e pode mudar o escopo, alterando a semântica do programa!"
      ],
      "metadata": {
        "id": "t2guUsxRPaTb"
      }
    },
    {
      "cell_type": "code",
      "source": [
        "a = 12\n",
        "b = 11\n",
        "if (a > b):\n",
        "  print(\"a é maior que b\")\n",
        "else:\n",
        "  print(\"a é menor que b\")"
      ],
      "metadata": {
        "colab": {
          "base_uri": "https://localhost:8080/",
          "height": 0
        },
        "id": "ES_xH7lhPNh7",
        "outputId": "42c17c16-cb81-4a33-d9ea-bca8aefb6f84"
      },
      "execution_count": 43,
      "outputs": [
        {
          "output_type": "stream",
          "name": "stdout",
          "text": [
            "a é maior que b\n"
          ]
        }
      ]
    },
    {
      "cell_type": "markdown",
      "source": [
        "# **Atribuição**\n",
        "x = 5 + 3\n",
        "* O comando de atribuição associa um valor a uma variável.\n",
        "* O resultado à direita da expressão é atribuído ao operando à esquerda da expressão\n"
      ],
      "metadata": {
        "id": "mOCjRG7yPxt7"
      }
    },
    {
      "cell_type": "markdown",
      "source": [
        "## **Operadores**\n",
        "```\n",
        "Operador    Descrição                                                 Exemplo\n",
        "  =         Atribuição o valor da expressão ao operando da esquerda   x = y + z\n",
        "  +=        Soma dois operandos e atribui ao da esquerda              a += b\n",
        "  -=        Subtrai dois operandos e atribui ao da esquerda           a -= b\n",
        "  *=        Multiplica dois operandos e atribui ao da esquerda        a *= b\n",
        "  /=        Divide dois operandos e atribui ao da esquerda            a /= b\n",
        "  %=        Calcula a mod b e atribui ao da esquerda                  a %= b\n",
        "  //=       Calcula a // b e atribui ao da esquerda                   a //= b\n",
        "  **=       Calcula a ** b e atribui ao da esquerda                   a **= b\n",
        "\n",
        "```"
      ],
      "metadata": {
        "id": "SlzTesoqRm7J"
      }
    },
    {
      "cell_type": "code",
      "source": [
        "a = 5\n",
        "b = 2\n",
        "a //= b\n",
        "print(a)"
      ],
      "metadata": {
        "colab": {
          "base_uri": "https://localhost:8080/",
          "height": 0
        },
        "id": "hGfP6CEmPodp",
        "outputId": "840c1a00-b0ed-4fd1-bec2-74ca095f85e1"
      },
      "execution_count": 47,
      "outputs": [
        {
          "output_type": "stream",
          "name": "stdout",
          "text": [
            "2\n"
          ]
        }
      ]
    },
    {
      "cell_type": "markdown",
      "source": [
        "# **Entrada e saída padrão**\n",
        "* O dispositivo de entrada padrão é o teclado.\n",
        "* A função input permite receber algum texto digitado pelo usuário no teclado.\n",
        "* Essa função pausa a execução do programa e aguarda que o usuário digite algum texto e pressione a tecla Enter.\n",
        "* A entrada recebida do usuário pode ser atribuída a uma variável para que possa ser utilizada no programa."
      ],
      "metadata": {
        "id": "Kme-09ceReo0"
      }
    },
    {
      "cell_type": "code",
      "source": [
        "mensagem = input(\"Diga alguma coisa e eu vou repetir: \")\n",
        "print(mensagem)"
      ],
      "metadata": {
        "colab": {
          "base_uri": "https://localhost:8080/",
          "height": 0
        },
        "id": "iBwVFFZBRjGE",
        "outputId": "51da287d-5427-4302-9de1-2b7c407332ac"
      },
      "execution_count": 48,
      "outputs": [
        {
          "output_type": "stream",
          "name": "stdout",
          "text": [
            "Diga alguma coisa e eu vou repetir: teste\n",
            "teste\n"
          ]
        }
      ]
    },
    {
      "cell_type": "code",
      "source": [
        "#Quando a função input é utilizada, o interpretador Python assume que a entrada fornecida pelo\n",
        "#usuário é do tipo string;\n",
        "#Se a entrada for um valor numérico inteiro ou de ponto flutuante, isso deve ser sinalizado\n",
        "#explicitamente.\n",
        "#idade = input(\"Qual a sua idade? \")\n",
        "#print(idade)\n",
        "#print(type(idade))\n",
        "idade = int(input(\"Qual a sua idade? \"))\n",
        "altura = float(input(\"Qual a sua altura? \"))\n",
        "print(\"Idade:\",idade)\n",
        "print(\"Altura:\",altura,\"m\")"
      ],
      "metadata": {
        "colab": {
          "base_uri": "https://localhost:8080/",
          "height": 0
        },
        "id": "rkpwfE2_Um3k",
        "outputId": "1f0e1826-ac75-417c-9d5e-ac957aec1293"
      },
      "execution_count": 53,
      "outputs": [
        {
          "output_type": "stream",
          "name": "stdout",
          "text": [
            "Qual a sua idade? 43\n",
            "Qual a sua altura? 1.87\n",
            "Idade: 43\n",
            "Altura: 1.87 m\n"
          ]
        }
      ]
    },
    {
      "cell_type": "code",
      "source": [
        "# Parâmetros print\n",
        "print(\"banana\")\n",
        "print(\"banana\",\"maça\",\"abacaxi\")\n",
        "print(\"banana\",\"maça\",\"abacaxi\",sep=\",\")\n",
        "# pode adicionar o \\n para não ficar grudado na próxima linha\n",
        "print(\"banana\",\"maça\",\"abacaxi\",sep=\",\",end=\".\")\n",
        "print(\"teste\")"
      ],
      "metadata": {
        "colab": {
          "base_uri": "https://localhost:8080/",
          "height": 0
        },
        "id": "MPOBYVm2U2Rv",
        "outputId": "24591f5d-c0cf-4b33-9dd2-0c40c23e3b0e"
      },
      "execution_count": 57,
      "outputs": [
        {
          "output_type": "stream",
          "name": "stdout",
          "text": [
            "banana\n",
            "banana maça abacaxi\n",
            "banana,maça,abacaxi\n",
            "banana,maça,abacaxi.teste\n"
          ]
        }
      ]
    },
    {
      "cell_type": "markdown",
      "source": [
        "# **Estruturas condicionais**\n",
        "Nos permitem testar uma condição e direcionar o fluxo de execução do programa para um ponto específico dentro do código dependendo se a condição é falsa ou verdadeira"
      ],
      "metadata": {
        "id": "8BJtGWeTV4s0"
      }
    },
    {
      "cell_type": "code",
      "source": [
        "idade = int(input(\"Qual a sua idade? \"))\n",
        "if idade < 16:\n",
        "  print(\"Você ainda não pode votar\")\n",
        "elif idade < 18:\n",
        "  print(\"Você já pode votar!\")\n",
        "elif idade < 70:\n",
        "  print(\"Você é obrigado a votar\")\n",
        "else:\n",
        "  print(\"Você pode votar\")\n"
      ],
      "metadata": {
        "colab": {
          "base_uri": "https://localhost:8080/",
          "height": 0
        },
        "id": "p3HvXfYxVgA7",
        "outputId": "b6009f08-7b3c-40af-becd-9ca46c8fa9f3"
      },
      "execution_count": 61,
      "outputs": [
        {
          "output_type": "stream",
          "name": "stdout",
          "text": [
            "Qual a sua idade? 70\n",
            "Você pode votar\n"
          ]
        }
      ]
    },
    {
      "cell_type": "markdown",
      "source": [
        "# **Operadores lógicos**\n",
        "```\n",
        "Operador    Descrição                                                 Exemplo\n",
        "  and       AND: True se os 2 operandos são verdadeiros               x and y\n",
        "  or        OR: True se qualquer dos 2 operandos for verdadeiro       x or y\n",
        "  not       NOT: True se o operando for falso                         not x\n",
        "```"
      ],
      "metadata": {
        "id": "beyJpibPcT7A"
      }
    },
    {
      "cell_type": "code",
      "source": [
        "x = True\n",
        "y = True\n",
        "print(x and y)\n",
        "print(x or y)\n",
        "print(not x)"
      ],
      "metadata": {
        "colab": {
          "base_uri": "https://localhost:8080/",
          "height": 0
        },
        "id": "AP7mDPHCYkTK",
        "outputId": "2cf92038-9c44-4093-ac37-5e7a56122adf"
      },
      "execution_count": 9,
      "outputs": [
        {
          "output_type": "stream",
          "name": "stdout",
          "text": [
            "True\n",
            "True\n",
            "False\n"
          ]
        }
      ]
    },
    {
      "cell_type": "code",
      "source": [
        "x = True\n",
        "y = False\n",
        "print(x and y)\n",
        "print(x or y)\n",
        "print(not x)"
      ],
      "metadata": {
        "colab": {
          "base_uri": "https://localhost:8080/",
          "height": 0
        },
        "id": "IoGFsS0-c2ff",
        "outputId": "11b00452-92de-4305-a36f-5b5362984f26"
      },
      "execution_count": 10,
      "outputs": [
        {
          "output_type": "stream",
          "name": "stdout",
          "text": [
            "False\n",
            "True\n",
            "False\n"
          ]
        }
      ]
    },
    {
      "cell_type": "code",
      "source": [
        "x = False\n",
        "y = False\n",
        "print(x and y)\n",
        "print(x or y)\n",
        "print(not x)"
      ],
      "metadata": {
        "colab": {
          "base_uri": "https://localhost:8080/",
          "height": 0
        },
        "id": "ztOwJmtyc7GE",
        "outputId": "23dcefc6-3b08-4a9b-ae80-c7d016116a0b"
      },
      "execution_count": 11,
      "outputs": [
        {
          "output_type": "stream",
          "name": "stdout",
          "text": [
            "False\n",
            "False\n",
            "True\n"
          ]
        }
      ]
    },
    {
      "cell_type": "markdown",
      "source": [
        "## **Precedência de operadores e comandos**\n",
        "```\n",
        "Precedência    Operadores e comandos\n",
        "  1            - (unário)\n",
        "  2            **\n",
        "  3            *, /, //, %\n",
        "  4            +, -\n",
        "  5            <, <=, >, >=, ==, !=\n",
        "  6            not\n",
        "  7            and\n",
        "  8            or\n",
        "  9            = (atribuição)\n",
        "```"
      ],
      "metadata": {
        "id": "2Zpu8tDldf3S"
      }
    },
    {
      "cell_type": "code",
      "source": [
        "nota = float(input(\"Nota final: \"))\n",
        "if nota < 0 or nota > 100:\n",
        "  print(\"Nota inválida\")\n",
        "elif nota >= 60:\n",
        "  print(\"Aprovado\")\n",
        "elif nota >= 40:\n",
        "  print(\"Aluno te direito a fazer prova final\")\n",
        "else:\n",
        "  print(\"Aluno reprovado\")\n"
      ],
      "metadata": {
        "colab": {
          "base_uri": "https://localhost:8080/",
          "height": 0
        },
        "id": "hju_NTfgc_aC",
        "outputId": "5b8f9fe4-0e9d-42c9-c0bc-c10f3f9dcacd"
      },
      "execution_count": 15,
      "outputs": [
        {
          "output_type": "stream",
          "name": "stdout",
          "text": [
            "Nota final: 1011\n",
            "Nota inválida\n"
          ]
        }
      ]
    },
    {
      "cell_type": "markdown",
      "source": [
        "# **Estruturas de repetição**\n",
        "\n",
        "As estruturas de repetição, também chamadas de loop, são muito úteis para que um bloco de instruções seja repetido diversas vezes, sem que seja necessário escrever tais instruções repetidamente."
      ],
      "metadata": {
        "id": "pQiC1r_dfCN1"
      }
    },
    {
      "cell_type": "markdown",
      "source": [
        "## **While**\n",
        "O loop while, ou melhor, as instruções dentro ou no escopo do loop while, são executadas enquanto uma determinada condição é verdadeira"
      ],
      "metadata": {
        "id": "FNyanM3cfNbo"
      }
    },
    {
      "cell_type": "code",
      "source": [
        "numeroAtual = 0\n",
        "while numeroAtual < 10:\n",
        "  print(numeroAtual)\n",
        "  numeroAtual += 1"
      ],
      "metadata": {
        "colab": {
          "base_uri": "https://localhost:8080/",
          "height": 0
        },
        "id": "Xc2DFpLCetjS",
        "outputId": "e524508a-e46c-4f07-c312-b774de88e1a1"
      },
      "execution_count": 16,
      "outputs": [
        {
          "output_type": "stream",
          "name": "stdout",
          "text": [
            "0\n",
            "1\n",
            "2\n",
            "3\n",
            "4\n",
            "5\n",
            "6\n",
            "7\n",
            "8\n",
            "9\n"
          ]
        }
      ]
    },
    {
      "cell_type": "code",
      "source": [
        "TEXTO = \"Diga alguma coisa e eu vou repetir: \"\n",
        "mensagem = input(TEXTO)\n",
        "while mensagem != \"sair\":\n",
        "  print(mensagem)\n",
        "  mensagem = input(TEXTO)"
      ],
      "metadata": {
        "colab": {
          "base_uri": "https://localhost:8080/",
          "height": 0
        },
        "id": "0tlanlgRfbWr",
        "outputId": "83df6e28-effc-42c0-8b2f-ef895ca7b630"
      },
      "execution_count": 17,
      "outputs": [
        {
          "name": "stdout",
          "output_type": "stream",
          "text": [
            "Diga alguma coisa e eu vou repetir: teste\n",
            "teste\n",
            "Diga alguma coisa e eu vou repetir: sair\n"
          ]
        }
      ]
    },
    {
      "cell_type": "code",
      "source": [
        "TEXTO = \"Informe o nome de uma cidade que você visitou: \"\n",
        "while True:\n",
        "  cidade = input(TEXTO)\n",
        "  if cidade == \"sair\":\n",
        "    break\n",
        "  print(f\"Eu gostaria de visitar {cidade.title()}!\")\n"
      ],
      "metadata": {
        "colab": {
          "base_uri": "https://localhost:8080/",
          "height": 0
        },
        "id": "r8aCn4cLf1t8",
        "outputId": "0a2f16cd-4e17-492b-bb06-7948e05bb30a"
      },
      "execution_count": 18,
      "outputs": [
        {
          "name": "stdout",
          "output_type": "stream",
          "text": [
            "Informe o nome de uma cidade que você visitou: mato leitão\n",
            "Eu gostaria de visitar Mato Leitão!\n",
            "Informe o nome de uma cidade que você visitou: sair\n"
          ]
        }
      ]
    },
    {
      "cell_type": "code",
      "source": [
        "# imprimindo somente ímpares\n",
        "numero = 0\n",
        "while numero < 10:\n",
        "  numero += 1\n",
        "  if numero % 2 == 0:\n",
        "    continue\n",
        "  print(numero)"
      ],
      "metadata": {
        "colab": {
          "base_uri": "https://localhost:8080/",
          "height": 0
        },
        "id": "Kc10gk9RgXvw",
        "outputId": "74f31e14-331a-4086-895e-b4cacdb9d7ab"
      },
      "execution_count": 19,
      "outputs": [
        {
          "output_type": "stream",
          "name": "stdout",
          "text": [
            "1\n",
            "3\n",
            "5\n",
            "7\n",
            "9\n"
          ]
        }
      ]
    },
    {
      "cell_type": "markdown",
      "source": [
        "## **For**\n",
        "\n",
        "A estrutura de repetição for é frequentemente utilizada para iterar (ou percorrer) uma sequência de elementos (pode ser um vetor, uma lista, um string, dentre outros)."
      ],
      "metadata": {
        "id": "AprQjwBVgtQ1"
      }
    },
    {
      "cell_type": "code",
      "source": [
        "frutas = [\"banana\", \"maça\", \"abacaxi\",\"uva\"]\n",
        "for x in frutas:\n",
        "  print(x)"
      ],
      "metadata": {
        "colab": {
          "base_uri": "https://localhost:8080/",
          "height": 0
        },
        "id": "IjZAak6dglwI",
        "outputId": "5728f61f-f33e-49b7-a242-14a394dd14c4"
      },
      "execution_count": 20,
      "outputs": [
        {
          "output_type": "stream",
          "name": "stdout",
          "text": [
            "banana\n",
            "maça\n",
            "abacaxi\n",
            "uva\n"
          ]
        }
      ]
    },
    {
      "cell_type": "code",
      "source": [
        "for x in \"banana\":\n",
        "  print(x)"
      ],
      "metadata": {
        "colab": {
          "base_uri": "https://localhost:8080/",
          "height": 0
        },
        "id": "TTzTPXjwg4KO",
        "outputId": "c32b5129-8bf4-4f7c-8913-c9d96be83acc"
      },
      "execution_count": 21,
      "outputs": [
        {
          "output_type": "stream",
          "name": "stdout",
          "text": [
            "b\n",
            "a\n",
            "n\n",
            "a\n",
            "n\n",
            "a\n"
          ]
        }
      ]
    },
    {
      "cell_type": "code",
      "source": [
        "# o range inicia em 0 e vai até o número informado (6) -1\n",
        "for x in range(6):\n",
        "  print(x)"
      ],
      "metadata": {
        "colab": {
          "base_uri": "https://localhost:8080/",
          "height": 0
        },
        "id": "cJ0GKn_Gg8lA",
        "outputId": "691cfff9-a3da-4fc8-bf33-d6b6925bf4eb"
      },
      "execution_count": 23,
      "outputs": [
        {
          "output_type": "stream",
          "name": "stdout",
          "text": [
            "0\n",
            "1\n",
            "2\n",
            "3\n",
            "4\n",
            "5\n"
          ]
        }
      ]
    },
    {
      "cell_type": "code",
      "source": [
        "# inicia em 2 e vai até 5\n",
        "for x in range(2,6):\n",
        "  print(x)"
      ],
      "metadata": {
        "colab": {
          "base_uri": "https://localhost:8080/",
          "height": 0
        },
        "id": "4wGtuL4khBMN",
        "outputId": "8465c6d7-22a4-4856-8ba4-76a91c1683d0"
      },
      "execution_count": 25,
      "outputs": [
        {
          "output_type": "stream",
          "name": "stdout",
          "text": [
            "2\n",
            "3\n",
            "4\n",
            "5\n"
          ]
        }
      ]
    },
    {
      "cell_type": "code",
      "source": [
        "# for inicia em 2, vai até 29, com passo 3\n",
        "for x in range(2,30,3):\n",
        "  print(x)"
      ],
      "metadata": {
        "colab": {
          "base_uri": "https://localhost:8080/",
          "height": 0
        },
        "id": "l-abLTfGhN4Q",
        "outputId": "faaab5f3-1232-4a98-bc7e-f43179eae0c8"
      },
      "execution_count": 27,
      "outputs": [
        {
          "output_type": "stream",
          "name": "stdout",
          "text": [
            "2\n",
            "5\n",
            "8\n",
            "11\n",
            "14\n",
            "17\n",
            "20\n",
            "23\n",
            "26\n",
            "29\n"
          ]
        }
      ]
    },
    {
      "cell_type": "markdown",
      "source": [
        "# **==-EXERCÍCIOS-==**\n",
        "1. **Variáveis e Tipos de Dados:**\n",
        "    \n",
        "    Crie um programa que solicite ao usuário seu nome e sua idade e armazene essas informações em variáveis. Em seguida, exiba uma mensagem de boas-vindas que inclua o nome e a idade.\n",
        "\n",
        "2. **Operadores Aritméticos:**\n",
        "\n",
        "    Desenvolva um programa que receba dois números inteiros do usuário e exiba a soma, subtração, multiplicação, divisão e o resto da divisão desses números.\n",
        "\n",
        "3. **Estruturas Condicionais:**\n",
        "\n",
        "    Escreva um programa que leia um número do usuário e verifique se ele é positivo, negativo ou zero. Exiba uma mensagem apropriada para cada caso.\n",
        "\n",
        "4. **Operadores Lógicos:**\n",
        "\n",
        "    Crie um programa que receba três números e verifique se eles estão todos dentro do intervalo de 10 a 20 (inclusive). Exiba True ou False como resultado.\n",
        "\n",
        "5. **Estrutura de Repetição - While:**\n",
        "\n",
        "    Implemente um programa que solicite um número ao usuário e exiba a tabuada desse número de 1 a 10 usando um loop while.\n",
        "\n",
        "6. **Estrutura de Repetição - For:**\n",
        "\n",
        "    Escreva um programa que receba um número inteiro do usuário e exiba todos os números pares de 0 até esse número usando um loop for.\n",
        "\n",
        "7. **Entrada e Saída Padrão:**\n",
        "\n",
        "    Crie um programa que leia três notas de um aluno, calcule a média e exiba se o aluno foi aprovado (média maior ou igual a 7), está em recuperação (média entre 5 e 7) ou reprovado (média abaixo de 5).\n",
        "\n",
        "8. **Constantes e Atribuições:**\n",
        "\n",
        "    Defina uma constante chamada PI com o valor 3.14159 e crie um programa que calcule a área de um círculo a partir do raio fornecido pelo usuário. Fórmula da área: área = PI x raio².\n",
        "\n",
        "9. **Precedência de Operadores:**\n",
        "\n",
        "    Escreva um programa que resolva a expressão 3+4×2 e compare com (3+4)×2. Exiba os resultados e explique a diferença.\n",
        "\n",
        "10. **Estrutura de Repetição com Condicional:**\n",
        "\n",
        "    Desenvolva um programa que leia números inteiros do usuário até que um número negativo seja digitado. Quando isso acontecer, exiba a soma de todos os números positivos digitados."
      ],
      "metadata": {
        "id": "2aMjg2dF5Dcf"
      }
    },
    {
      "cell_type": "code",
      "source": [],
      "metadata": {
        "id": "FqXHQqZL5lLF"
      },
      "execution_count": null,
      "outputs": []
    }
  ]
}